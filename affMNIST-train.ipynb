{
 "cells": [
  {
   "cell_type": "code",
   "execution_count": 1,
   "metadata": {},
   "outputs": [
    {
     "name": "stderr",
     "output_type": "stream",
     "text": [
      "/usr/local/lib/python3.5/dist-packages/h5py/__init__.py:36: FutureWarning: Conversion of the second argument of issubdtype from `float` to `np.floating` is deprecated. In future, it will be treated as `np.float64 == np.dtype(float).type`.\n",
      "  from ._conv import register_converters as _register_converters\n",
      "Using TensorFlow backend.\n"
     ]
    }
   ],
   "source": [
    "import matplotlib.pyplot as plt\n",
    "from keras.models import load_model, Model\n",
    "import numpy as np\n",
    "from utils.visualizations import GradCAM, GuidedGradCAM, GBP, LRP, CLRP, SGLRP, SGLRP2\n",
    "from utils.helper import heatmap\n",
    "import innvestigate.utils as iutils\n",
    "import os\n",
    "from keras.preprocessing.image import img_to_array, load_img\n",
    "from keras.utils import to_categorical\n",
    "import math\n",
    "import scipy.io as sio\n",
    "import tqdm\n",
    "from utils.fileutils import CacheStorage\n",
    "\n",
    "os.environ[\"CUDA_VISIBLE_DEVICES\"]=\"2\""
   ]
  },
  {
   "cell_type": "code",
   "execution_count": 2,
   "metadata": {},
   "outputs": [],
   "source": [
    "input_shape = (40, 40, 1)\n",
    "num_classes = 10"
   ]
  },
  {
   "cell_type": "code",
   "execution_count": null,
   "metadata": {},
   "outputs": [],
   "source": []
  },
  {
   "cell_type": "code",
   "execution_count": 3,
   "metadata": {},
   "outputs": [
    {
     "name": "stderr",
     "output_type": "stream",
     "text": [
      "100%|██████████| 1/1 [00:02<00:00,  2.74s/it]\n"
     ]
    }
   ],
   "source": [
    "def load_images_from_mat(data_dir, include_transforms = False):\n",
    "    mat_list = os.listdir(data_dir)\n",
    "    images = np.empty((0, input_shape[0]*input_shape[1]*input_shape[2]))\n",
    "    labels = np.empty((0,num_classes))\n",
    "    transforms = np.empty((0,6))\n",
    "    affines = np.empty((0, 6))\n",
    "    for mat_path in tqdm.tqdm(mat_list):\n",
    "        if mat_path.endswith('.mat'):\n",
    "            mat_contents = sio.loadmat(os.path.join(data_dir, mat_path))\n",
    "            data = mat_contents['affNISTdata'][0,0]\n",
    "#             print(data.dtype)\n",
    "            images = np.append(images, data['image'].T, axis=0)\n",
    "            labels = np.append(labels, data['label_one_of_n'].T, axis=0)\n",
    "            if (include_transforms):\n",
    "                transforms = np.append(transforms, data['human_readable_transform'].T, axis=0)\n",
    "                affines = np.append(affines, data['matrix_old_to_new'].T, axis=0)\n",
    "    return images, labels, transforms, affines\n",
    "x_test, y_test, t_test, a_test = load_images_from_mat(os.path.join('data', 'affMNIST','test'), True)"
   ]
  },
  {
   "cell_type": "code",
   "execution_count": 4,
   "metadata": {},
   "outputs": [],
   "source": [
    "def get_affnist_images(data_dir, dataset, include_transforms=False):\n",
    "    imgs = []\n",
    "    labels = []\n",
    "\n",
    "    cache = CacheStorage()\n",
    "    print(\"Try to load cache file\")\n",
    "    imgs = cache.get_cache(os.path.join('cache', \"mnist_imgs_\"+dataset))\n",
    "    labels = cache.get_cache(os.path.join('cache', \"mnist_labels_\"+dataset))\n",
    "    transforms = cache.get_cache(os.path.join('cache', \"mnist_transforms_\"+dataset))\n",
    "    if imgs is None or labels is None or transforms is None:\n",
    "        print(\"Making cache file\")\n",
    "        imgs, labels, transforms = load_images_from_mat(os.path.join(data_dir, dataset), include_transforms)\n",
    "        cache.set_cache(os.path.join('cache', \"mnist_imgs_\"+dataset), imgs)\n",
    "        cache.set_cache(os.path.join('cache', \"mnist_labels_\"+dataset), labels)\n",
    "        cache.set_cache(os.path.join('cache', \"mnist_transforms_\"+dataset), transforms)\n",
    "    return imgs, labels, transforms"
   ]
  },
  {
   "cell_type": "code",
   "execution_count": 5,
   "metadata": {},
   "outputs": [
    {
     "name": "stdout",
     "output_type": "stream",
     "text": [
      "Try to load cache file\n"
     ]
    }
   ],
   "source": [
    "# x_test, y_test, t_test = get_affnist_images(os.path.join('data', 'affMNIST'), 'test', True)\n",
    "x_train, y_train, _ = get_affnist_images(os.path.join('data', 'affMNIST'), 'training', False)"
   ]
  },
  {
   "cell_type": "code",
   "execution_count": 6,
   "metadata": {},
   "outputs": [
    {
     "name": "stdout",
     "output_type": "stream",
     "text": [
      "(1920000, 1600)\n"
     ]
    }
   ],
   "source": [
    "print(np.shape(x_train))"
   ]
  },
  {
   "cell_type": "code",
   "execution_count": 7,
   "metadata": {},
   "outputs": [
    {
     "name": "stdout",
     "output_type": "stream",
     "text": [
      "_________________________________________________________________\n",
      "Layer (type)                 Output Shape              Param #   \n",
      "=================================================================\n",
      "input_1 (InputLayer)         (None, 40, 40, 1)         0         \n",
      "_________________________________________________________________\n",
      "conv2d_1 (Conv2D)            (None, 40, 40, 64)        640       \n",
      "_________________________________________________________________\n",
      "conv2d_2 (Conv2D)            (None, 40, 40, 64)        36928     \n",
      "_________________________________________________________________\n",
      "max_pooling2d_1 (MaxPooling2 (None, 20, 20, 64)        0         \n",
      "_________________________________________________________________\n",
      "conv2d_3 (Conv2D)            (None, 20, 20, 128)       73856     \n",
      "_________________________________________________________________\n",
      "conv2d_4 (Conv2D)            (None, 20, 20, 128)       147584    \n",
      "_________________________________________________________________\n",
      "max_pooling2d_2 (MaxPooling2 (None, 10, 10, 128)       0         \n",
      "_________________________________________________________________\n",
      "conv2d_5 (Conv2D)            (None, 10, 10, 256)       295168    \n",
      "_________________________________________________________________\n",
      "conv2d_6 (Conv2D)            (None, 10, 10, 256)       590080    \n",
      "_________________________________________________________________\n",
      "conv2d_7 (Conv2D)            (None, 10, 10, 256)       590080    \n",
      "_________________________________________________________________\n",
      "max_pooling2d_3 (MaxPooling2 (None, 5, 5, 256)         0         \n",
      "_________________________________________________________________\n",
      "flatten_1 (Flatten)          (None, 6400)              0         \n",
      "_________________________________________________________________\n",
      "dense_1 (Dense)              (None, 1024)              6554624   \n",
      "_________________________________________________________________\n",
      "dense_2 (Dense)              (None, 1024)              1049600   \n",
      "_________________________________________________________________\n",
      "dense_3 (Dense)              (None, 10)                10250     \n",
      "=================================================================\n",
      "Total params: 9,348,810\n",
      "Trainable params: 9,348,810\n",
      "Non-trainable params: 0\n",
      "_________________________________________________________________\n"
     ]
    }
   ],
   "source": [
    "#This will be your trained model instead.\n",
    "\n",
    "from utils.models import VGG10_nodrop, preprocess_input\n",
    "model = VGG10_nodrop(\n",
    "    input_shape=input_shape,\n",
    "    nb_class=num_classes\n",
    ")\n",
    "# model.summary()"
   ]
  },
  {
   "cell_type": "code",
   "execution_count": null,
   "metadata": {},
   "outputs": [],
   "source": []
  },
  {
   "cell_type": "code",
   "execution_count": 8,
   "metadata": {},
   "outputs": [
    {
     "name": "stdout",
     "output_type": "stream",
     "text": [
      "Train on 1919808 samples, validate on 192 samples\n",
      "Epoch 1/4\n",
      "1919808/1919808 [==============================] - 12680s 7ms/step - loss: 0.0582 - acc: 0.9817 - val_loss: 0.0103 - val_acc: 0.9948\n",
      "\n",
      "Epoch 00001: val_acc improved from -inf to 0.99479, saving model to weights/affmnist_nonorm_val_acc_weights.h5\n",
      "Epoch 2/4\n",
      "1919808/1919808 [==============================] - 12537s 7ms/step - loss: 0.0140 - acc: 0.9957 - val_loss: 0.0259 - val_acc: 0.9896\n",
      "\n",
      "Epoch 00002: val_acc did not improve from 0.99479\n",
      "Epoch 3/4\n",
      "1919808/1919808 [==============================] - 13311s 7ms/step - loss: 0.0088 - acc: 0.9973 - val_loss: 0.0087 - val_acc: 0.9948\n",
      "\n",
      "Epoch 00003: val_acc did not improve from 0.99479\n",
      "Epoch 4/4\n",
      "1919808/1919808 [==============================] - 13335s 7ms/step - loss: 0.0065 - acc: 0.9980 - val_loss: 3.6689e-04 - val_acc: 1.0000\n",
      "\n",
      "Epoch 00004: val_acc improved from 0.99479 to 1.00000, saving model to weights/affmnist_nonorm_val_acc_weights.h5\n"
     ]
    }
   ],
   "source": [
    "#train\n",
    "from keras.optimizers import Adam\n",
    "from keras.callbacks import ModelCheckpoint, ReduceLROnPlateau, TensorBoard, CSVLogger, EarlyStopping\n",
    "\n",
    "nb_iterations = 50000\n",
    "learning_rate=0.0001\n",
    "batch_size=128\n",
    "dataset_prefix=\"affmnist_nonorm\"\n",
    "\n",
    "save=True\n",
    "train=True\n",
    "\n",
    "if train:\n",
    "    x_train = preprocess_input(x_train, input_shape[0], input_shape[1], input_shape[2], normalization=\"positive\")\n",
    "    nb_epochs = math.ceil(nb_iterations * (batch_size / x_train.shape[0]))\n",
    "x_test = preprocess_input(x_test, input_shape[0], input_shape[1], input_shape[2], normalization=\"positive\")\n",
    "\n",
    "validation_split=0.0001\n",
    "\n",
    "if not os.path.exists(os.path.join(\"logs\", \"%s\" % (dataset_prefix))):\n",
    "    os.mkdir(os.path.join(\"logs\", \"%s\" % (dataset_prefix)))\n",
    "model_checkpoint = ModelCheckpoint(os.path.join(\"weights\", \"%s_val_acc_weights.h5\" % (dataset_prefix)), verbose=1, monitor='val_acc', save_best_only=True)\n",
    "tensorboard = TensorBoard(log_dir=os.path.join(\"logs\", \"%s\" % (dataset_prefix)), batch_size=batch_size)\n",
    "csv_logger = CSVLogger(os.path.join('logs', '%s.csv' % (dataset_prefix)))\n",
    "\n",
    "if not save:\n",
    "    callback_list = []\n",
    "else:\n",
    "#     callback_list = [tensorboard, csv_logger]\n",
    "    callback_list = [model_checkpoint, tensorboard, csv_logger]\n",
    "\n",
    "\n",
    "optm = Adam(lr=learning_rate)\n",
    "model.compile(optimizer=optm, loss='categorical_crossentropy', metrics=['accuracy'])\n",
    "\n",
    "if train:\n",
    "    #train\n",
    "    model.fit(x_train, y_train, batch_size=batch_size, epochs=nb_epochs, callbacks=callback_list, verbose=1, validation_split=validation_split)\n",
    "    if save:\n",
    "        model.save_weights(os.path.join(\"weights\", \"%s_val_loss_weights_final.h5\" % (dataset_prefix)))\n",
    "else: \n",
    "        model.load_weights(os.path.join(\"weights\", \"%s_val_loss_weights_final.h5\" % (dataset_prefix)))"
   ]
  },
  {
   "cell_type": "code",
   "execution_count": null,
   "metadata": {},
   "outputs": [],
   "source": []
  },
  {
   "cell_type": "code",
   "execution_count": 9,
   "metadata": {
    "scrolled": true
   },
   "outputs": [
    {
     "name": "stdout",
     "output_type": "stream",
     "text": [
      "_________________________________________________________________\n",
      "Layer (type)                 Output Shape              Param #   \n",
      "=================================================================\n",
      "input_1 (InputLayer)         (None, 40, 40, 1)         0         \n",
      "_________________________________________________________________\n",
      "conv2d_1 (Conv2D)            (None, 40, 40, 64)        640       \n",
      "_________________________________________________________________\n",
      "conv2d_2 (Conv2D)            (None, 40, 40, 64)        36928     \n",
      "_________________________________________________________________\n",
      "max_pooling2d_1 (MaxPooling2 (None, 20, 20, 64)        0         \n",
      "_________________________________________________________________\n",
      "conv2d_3 (Conv2D)            (None, 20, 20, 128)       73856     \n",
      "_________________________________________________________________\n",
      "conv2d_4 (Conv2D)            (None, 20, 20, 128)       147584    \n",
      "_________________________________________________________________\n",
      "max_pooling2d_2 (MaxPooling2 (None, 10, 10, 128)       0         \n",
      "_________________________________________________________________\n",
      "conv2d_5 (Conv2D)            (None, 10, 10, 256)       295168    \n",
      "_________________________________________________________________\n",
      "conv2d_6 (Conv2D)            (None, 10, 10, 256)       590080    \n",
      "_________________________________________________________________\n",
      "conv2d_7 (Conv2D)            (None, 10, 10, 256)       590080    \n",
      "_________________________________________________________________\n",
      "max_pooling2d_3 (MaxPooling2 (None, 5, 5, 256)         0         \n",
      "_________________________________________________________________\n",
      "flatten_1 (Flatten)          (None, 6400)              0         \n",
      "_________________________________________________________________\n",
      "dense_1 (Dense)              (None, 1024)              6554624   \n",
      "_________________________________________________________________\n",
      "dense_2 (Dense)              (None, 1024)              1049600   \n",
      "_________________________________________________________________\n",
      "dense_4 (Dense)              (None, 10)                10250     \n",
      "=================================================================\n",
      "Total params: 9,348,810\n",
      "Trainable params: 9,348,810\n",
      "Non-trainable params: 0\n",
      "_________________________________________________________________\n"
     ]
    }
   ],
   "source": [
    "# Only the partial model is needed for the visualizers. Use innvestigate.utils.keras.graph.pre_softmax_tensors()\n",
    "partial_model = Model(\n",
    "    inputs=model.inputs,\n",
    "    outputs=iutils.keras.graph.pre_softmax_tensors(model.outputs),\n",
    "    name=model.name,\n",
    ")\n",
    "partial_model.summary()"
   ]
  },
  {
   "cell_type": "code",
   "execution_count": 10,
   "metadata": {},
   "outputs": [],
   "source": [
    "# Range of input images\n",
    "# keras_applications VGG16 weights assume a range of (-127.5, 127.5). Change this to a range suitable for your model.\n",
    "max_input = -1.\n",
    "min_input = 1."
   ]
  },
  {
   "cell_type": "code",
   "execution_count": 11,
   "metadata": {},
   "outputs": [
    {
     "name": "stdout",
     "output_type": "stream",
     "text": [
      "320000\n",
      "(320000, 40, 40, 1)\n"
     ]
    }
   ],
   "source": [
    "# Change this to load a list of images you want. For this example, we are only loading one image, but you can load a list of files.\n",
    "orig_imgs = x_test\n",
    "input_imgs = np.copy(orig_imgs[:])\n",
    "\n",
    "num_images = input_imgs.shape[0]\n",
    "print(num_images)\n",
    "half_num_images = int(num_images / 2)\n",
    "assert(half_num_images == num_images / 2.)\n",
    "\n",
    "shuffled_ids = np.arange(num_images)\n",
    "import random\n",
    "random.shuffle(shuffled_ids)\n",
    "shuffled_imgs = input_imgs[shuffled_ids]\n",
    "combined_images = np.maximum(shuffled_imgs[:half_num_images], shuffled_imgs[half_num_images:])\n",
    "print(np.shape(input_imgs))\n"
   ]
  },
  {
   "cell_type": "code",
   "execution_count": 29,
   "metadata": {},
   "outputs": [],
   "source": [
    "# Select only one from your list for example\n",
    "example_id = 3"
   ]
  },
  {
   "cell_type": "code",
   "execution_count": 13,
   "metadata": {},
   "outputs": [
    {
     "name": "stdout",
     "output_type": "stream",
     "text": [
      "[ 5.59376482 -0.18365336  0.84202952  0.80801291 -8.         -8.        ]\n"
     ]
    }
   ],
   "source": [
    "shuffuled_t_test = t_test[shuffled_ids]\n",
    "print(shuffuled_t_test[example_id])\n",
    "shuffuled_y_test = y_test[shuffled_ids]"
   ]
  },
  {
   "cell_type": "code",
   "execution_count": 14,
   "metadata": {},
   "outputs": [
    {
     "name": "stdout",
     "output_type": "stream",
     "text": [
      "[[ 0.82294617 -0.23598164  3.57597884]\n",
      " [ 0.07876073  0.80416517 -0.41949964]\n",
      " [ 0.          0.          1.        ]]\n"
     ]
    }
   ],
   "source": [
    "shuffuled_a_test = a_test[shuffled_ids]\n",
    "affine = np.append(shuffuled_a_test[example_id], [0,0,1])\n",
    "affine = affine.reshape(3,3)\n",
    "print(affine)"
   ]
  },
  {
   "cell_type": "code",
   "execution_count": 15,
   "metadata": {},
   "outputs": [
    {
     "name": "stdout",
     "output_type": "stream",
     "text": [
      "class:  0\n",
      "[ 5.59376482 -0.18365336  0.84202952  0.80801291 -8.         -8.        ]\n",
      "[20.0, 20.0]\n",
      "[10.973430487149422, 12.746677217945187]\n",
      "[2.9734304871494217, 4.746677217945187]\n"
     ]
    }
   ],
   "source": [
    "# x_min, y_min, x_max, y_max = 8, 8, 32, 32\n",
    "# ul = [x_min, y_max, 0]\n",
    "# bl = [x_min, y_min, 0]\n",
    "# br = [x_max, y_min, 0]\n",
    "# ur = [x_max, y_max, 0]\n",
    "# a_ul = affine @ ul\n",
    "# a_ur = affine @ ur\n",
    "# a_br = affine @ br\n",
    "# a_bl = affine @ bl\n",
    "# z = [20, 20, 0]\n",
    "# center = affine @ z\n",
    "\n",
    "# print(center)\n",
    "print(\"class: \", np.argmax(shuffuled_y_test[example_id]))\n",
    "\n",
    "# print(a_ul, a_ur, a_br, a_bl)\n",
    "# First, the amount of counter-clockwise rotation, in degrees. This is chosen uniformly between -20 and +20.\n",
    "# Second, the amount of shearing. Shearing is applied to coordinates by adding x*shearing to the y coordinate. Thus, a shearing factor of 1 means that a horizontal line turns into a line at 45 degrees. The shearing factor is chosen uniformly between -0.2 and +0.2.\n",
    "# Third and fourth, the vertical expansion and the horizontal expansion. These are chosen uniformly between 0.8 (i.e. shrinking the digit image by 20%) and 1.2 (i.e. making the image 20% larger).\n",
    "# Fifth and sixth, the vertical translation and the horizontal translation. These are only restricted by the requirement that no ink must fall off the 40x40 image, and can therefore be quite large.\n",
    "print(shuffuled_t_test[example_id])\n",
    "\n",
    "def rotate_around_point_highperf(xy, radians, origin=(0, 0)):\n",
    "    \"\"\"Rotate a point around a given point.\n",
    "    \n",
    "    I call this the \"high performance\" version since we're caching some\n",
    "    values that are needed >1 time. It's less readable than the previous\n",
    "    function but it's faster.\n",
    "    \"\"\"\n",
    "    x, y = xy\n",
    "    offset_x, offset_y = origin\n",
    "    adjusted_x = (x - offset_x)\n",
    "    adjusted_y = (y - offset_y)\n",
    "    cos_rad = math.cos(radians)\n",
    "    sin_rad = math.sin(radians)\n",
    "    qx = offset_x + cos_rad * adjusted_x + sin_rad * adjusted_y\n",
    "    qy = offset_y + -sin_rad * adjusted_x + cos_rad * adjusted_y\n",
    "\n",
    "    return [qx, qy]\n",
    "\n",
    "transforms = shuffuled_t_test[example_id]\n",
    "x_min, y_min, x_max, y_max = 40/2-10*transforms[3], 40/2-12*transforms[2], 40/2+10*transforms[3], 40/2+12*transforms[2]\n",
    "center = [40/2, 40/2]\n",
    "\n",
    "print([(x_min+x_max) / 2., (y_min+y_max) / 2.])\n",
    "ul = [x_min, y_min]\n",
    "bl = [x_min, y_max]\n",
    "br = [x_max, y_max]\n",
    "ur = [x_max, y_min]\n",
    "\n",
    "\n",
    "\n",
    "#rotate\n",
    "a_ul = rotate_around_point_highperf(ul, np.radians(transforms[0]), center)\n",
    "a_bl = rotate_around_point_highperf(bl, np.radians(transforms[0]), center)\n",
    "a_br = rotate_around_point_highperf(br, np.radians(transforms[0]), center)\n",
    "a_ur = rotate_around_point_highperf(ur, np.radians(transforms[0]), center)\n",
    "a_center = center\n",
    "#shear\n",
    "a_ul[1] -= a_ul[0]*transforms[1]\n",
    "a_bl[1] -= a_bl[0]*transforms[1]\n",
    "a_br[1] -= a_br[0]*transforms[1]\n",
    "a_ur[1] -= a_ur[0]*transforms[1]\n",
    "a_center[1] -= center[0]*transforms[1]\n",
    "print(a_ul)\n",
    "#translate\n",
    "a_ul[0] += transforms[5]\n",
    "a_bl[0] += transforms[5]\n",
    "a_br[0] += transforms[5]\n",
    "a_ur[0] += transforms[5]\n",
    "a_ul[1] += transforms[4]\n",
    "a_bl[1] += transforms[4]\n",
    "a_br[1] += transforms[4]\n",
    "a_ur[1] += transforms[4]\n",
    "a_center[0] += transforms[5]\n",
    "a_center[1] += transforms[4]\n",
    "print(a_ul)"
   ]
  },
  {
   "cell_type": "code",
   "execution_count": 16,
   "metadata": {},
   "outputs": [
    {
     "data": {
      "image/png": "[encoded data removed]",
      "text/plain": [
       "<Figure size 432x288 with 1 Axes>"
      ]
     },
     "metadata": {},
     "output_type": "display_data"
    }
   ],
   "source": [
    "# plt.imshow(shuffled_imgs[example_id].reshape((input_shape[0],input_shape[1])), cmap=\"Greys_r\")\n",
    "plt.imshow(combined_images[example_id].reshape((input_shape[0],input_shape[1])), cmap=\"Greys_r\")\n",
    "\n",
    "plt.scatter(a_ul[0], a_ul[1], color='r')\n",
    "plt.scatter(a_ur[0], a_ur[1], color='g')\n",
    "plt.scatter(a_br[0], a_br[1], color='b')\n",
    "plt.scatter(a_bl[0], a_bl[1], color='c')\n",
    "plt.scatter(a_center[0], a_center[1], color='m')\n",
    "# plt.xticks([])\n",
    "# plt.yticks([])\n",
    "# plt.ylim((0,40))\n",
    "plt.tight_layout()\n",
    "plt.show()"
   ]
  },
  {
   "cell_type": "code",
   "execution_count": 17,
   "metadata": {},
   "outputs": [],
   "source": [
    "# GradCAM and GuidedGradCAM requires a specific layer\n",
    "target_layer = \"max_pooling2d_3\" # VGG only"
   ]
  },
  {
   "cell_type": "code",
   "execution_count": 18,
   "metadata": {},
   "outputs": [],
   "source": [
    "# Optional\n",
    "test_images = np.copy(combined_images[:10])\n",
    "predictions = model.predict(test_images)"
   ]
  },
  {
   "cell_type": "code",
   "execution_count": 19,
   "metadata": {},
   "outputs": [],
   "source": [
    "# for i, p in enumerate(predictions):\n",
    "#     if np.max(p) < 1. :\n",
    "#         print(i, np.max(p))"
   ]
  },
  {
   "cell_type": "code",
   "execution_count": 37,
   "metadata": {},
   "outputs": [
    {
     "name": "stdout",
     "output_type": "stream",
     "text": [
      "probability: 0.7901656\n",
      "prediction id: 9\n",
      "target id: 9\n"
     ]
    }
   ],
   "source": [
    "# Which class you want to target.\n",
    "target_class = 9\n",
    "\n",
    "pred_id = np.argmax(predictions[example_id])\n",
    "print(\"probability:\", predictions[example_id][target_class])\n",
    "print(\"prediction id:\", pred_id)\n",
    "print(\"target id:\", target_class)"
   ]
  },
  {
   "cell_type": "markdown",
   "metadata": {},
   "source": [
    "# GradCAM"
   ]
  },
  {
   "cell_type": "code",
   "execution_count": 38,
   "metadata": {
    "scrolled": true
   },
   "outputs": [
    {
     "data": {
      "image/png": "[encoded data removed]",
      "text/plain": [
       "<Figure size 432x288 with 1 Axes>"
      ]
     },
     "metadata": {},
     "output_type": "display_data"
    }
   ],
   "source": [
    "partial_gradcam_analyzer = GradCAM(\n",
    "    model=partial_model,\n",
    "    target_id=target_class,\n",
    "    layer_name=target_layer,\n",
    "    relu=False,\n",
    ")\n",
    "analysis_partial_grad_cam = partial_gradcam_analyzer.analyze(test_images)\n",
    "heatmap(analysis_partial_grad_cam[example_id].sum(axis=(2)))\n",
    "plt.show()"
   ]
  },
  {
   "cell_type": "markdown",
   "metadata": {},
   "source": [
    "# Guided Back Propagation"
   ]
  },
  {
   "cell_type": "code",
   "execution_count": 39,
   "metadata": {},
   "outputs": [
    {
     "data": {
      "image/png": "[encoded data removed]",
      "text/plain": [
       "<Figure size 432x288 with 1 Axes>"
      ]
     },
     "metadata": {},
     "output_type": "display_data"
    }
   ],
   "source": [
    "guidedbackprop_analyzer = GBP(\n",
    "    partial_model,\n",
    "    target_id=target_class,\n",
    "    relu=False,\n",
    ")\n",
    "analysis_guidedbackprop = guidedbackprop_analyzer.analyze(test_images)\n",
    "heatmap(analysis_guidedbackprop[example_id].sum(axis=(2)))\n",
    "plt.show()"
   ]
  },
  {
   "cell_type": "markdown",
   "metadata": {},
   "source": [
    "# GuidedGradCAM"
   ]
  },
  {
   "cell_type": "code",
   "execution_count": 40,
   "metadata": {},
   "outputs": [
    {
     "data": {
      "image/png": "[encoded data removed]",
      "text/plain": [
       "<Figure size 432x288 with 1 Axes>"
      ]
     },
     "metadata": {},
     "output_type": "display_data"
    }
   ],
   "source": [
    "guidedgradcam_analyzer = GuidedGradCAM(\n",
    "    partial_model,\n",
    "    target_id=target_class,\n",
    "    layer_name=target_layer,\n",
    "    relu=False,\n",
    ")\n",
    "analysis_guidedgradcam = guidedgradcam_analyzer.analyze(test_images)\n",
    "heatmap(analysis_guidedgradcam[example_id].sum(axis=(2)))\n",
    "plt.show()"
   ]
  },
  {
   "cell_type": "markdown",
   "metadata": {},
   "source": [
    "# LRP"
   ]
  },
  {
   "cell_type": "code",
   "execution_count": 41,
   "metadata": {},
   "outputs": [
    {
     "data": {
      "image/png": "[encoded data removed]",
      "text/plain": [
       "<Figure size 432x288 with 1 Axes>"
      ]
     },
     "metadata": {},
     "output_type": "display_data"
    }
   ],
   "source": [
    "lrp_analyzer = LRP(\n",
    "    partial_model,\n",
    "    target_id=target_class,\n",
    "    relu=False,\n",
    "    low=min_input,\n",
    "    high=max_input,\n",
    ")\n",
    "analysis_lrp = lrp_analyzer.analyze(test_images)\n",
    "heatmap(analysis_lrp[example_id].sum(axis=(2)))\n",
    "plt.show()"
   ]
  },
  {
   "cell_type": "markdown",
   "metadata": {},
   "source": [
    "# CLRP"
   ]
  },
  {
   "cell_type": "code",
   "execution_count": 42,
   "metadata": {},
   "outputs": [
    {
     "data": {
      "image/png": "[encoded data removed]",
      "text/plain": [
       "<Figure size 432x288 with 1 Axes>"
      ]
     },
     "metadata": {},
     "output_type": "display_data"
    }
   ],
   "source": [
    "clrp_analyzer = CLRP(\n",
    "    partial_model,\n",
    "    target_id=target_class,\n",
    "    relu=False,\n",
    "    low=min_input,\n",
    "    high=max_input,\n",
    ")\n",
    "analysis_clrp = clrp_analyzer.analyze(test_images)\n",
    "heatmap(analysis_clrp[example_id].sum(axis=(2)))\n",
    "plt.show()"
   ]
  },
  {
   "cell_type": "markdown",
   "metadata": {},
   "source": [
    "# SGLRP"
   ]
  },
  {
   "cell_type": "code",
   "execution_count": 43,
   "metadata": {
    "scrolled": true
   },
   "outputs": [
    {
     "data": {
      "image/png": "[encoded data removed]",
      "text/plain": [
       "<Figure size 432x288 with 1 Axes>"
      ]
     },
     "metadata": {},
     "output_type": "display_data"
    }
   ],
   "source": [
    "sglrp_analyzer = SGLRP(\n",
    "    partial_model,\n",
    "    target_id=target_class,\n",
    "    relu=False,\n",
    "    low=min_input,\n",
    "    high=max_input,\n",
    ")\n",
    "analysis_sglrp = sglrp_analyzer.analyze(test_images)\n",
    "heatmap(analysis_sglrp[example_id].sum(axis=(2)))\n",
    "plt.show()"
   ]
  },
  {
   "cell_type": "code",
   "execution_count": 27,
   "metadata": {},
   "outputs": [],
   "source": [
    "# oaglrp_analyzer = OAGLRP(\n",
    "#     partial_model,\n",
    "#     target_id=target_class,\n",
    "#     relu=False,\n",
    "#     scaling=False,\n",
    "#     low=min_input,\n",
    "#     high=max_input,\n",
    "# )\n",
    "# analysis_oaglrp = oaglrp_analyzer.analyze(input_imgs)\n",
    "# heatmap(analysis_oaglrp[example_id].sum(axis=(2)))\n",
    "# plt.show()"
   ]
  },
  {
   "cell_type": "code",
   "execution_count": null,
   "metadata": {},
   "outputs": [],
   "source": []
  },
  {
   "cell_type": "code",
   "execution_count": null,
   "metadata": {},
   "outputs": [],
   "source": []
  }
 ],
 "metadata": {
  "kernelspec": {
   "display_name": "Python 3",
   "language": "python",
   "name": "python3"
  },
  "language_info": {
   "codemirror_mode": {
    "name": "ipython",
    "version": 3
   },
   "file_extension": ".py",
   "mimetype": "text/x-python",
   "name": "python",
   "nbconvert_exporter": "python",
   "pygments_lexer": "ipython3",
   "version": "3.5.2"
  }
 },
 "nbformat": 4,
 "nbformat_minor": 2
}

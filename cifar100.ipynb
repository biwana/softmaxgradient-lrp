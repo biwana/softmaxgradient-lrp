{
 "cells": [
  {
   "cell_type": "code",
   "execution_count": 1,
   "metadata": {},
   "outputs": [
    {
     "name": "stderr",
     "output_type": "stream",
     "text": [
      "/usr/local/lib/python3.5/dist-packages/h5py/__init__.py:36: FutureWarning: Conversion of the second argument of issubdtype from `float` to `np.floating` is deprecated. In future, it will be treated as `np.float64 == np.dtype(float).type`.\n",
      "  from ._conv import register_converters as _register_converters\n",
      "Using TensorFlow backend.\n"
     ]
    }
   ],
   "source": [
    "import matplotlib.pyplot as plt\n",
    "from keras.models import load_model, Model\n",
    "import numpy as np\n",
    "from utils.visualizations import GradCAM, GuidedGradCAM, GBP, LRP, CLRP, SGLRP, SGLRP2, OAGLRP\n",
    "from utils.helper import heatmap\n",
    "import innvestigate.utils as iutils\n",
    "import os\n",
    "from keras.preprocessing.image import img_to_array, load_img\n",
    "from keras.datasets import cifar100\n",
    "from keras.utils import to_categorical\n",
    "import math\n",
    "\n",
    "os.environ[\"CUDA_VISIBLE_DEVICES\"]=\"3\""
   ]
  },
  {
   "cell_type": "code",
   "execution_count": 2,
   "metadata": {},
   "outputs": [],
   "source": [
    "input_shape = (32, 32, 3)\n",
    "num_classes = 100\n",
    "(x_train, y_train), (x_test, y_test) = cifar100.load_data(label_mode='fine')\n",
    "y_train = to_categorical(y_train, num_classes)\n",
    "y_test = to_categorical(y_test, num_classes)"
   ]
  },
  {
   "cell_type": "code",
   "execution_count": 3,
   "metadata": {},
   "outputs": [
    {
     "name": "stdout",
     "output_type": "stream",
     "text": [
      "_________________________________________________________________\n",
      "Layer (type)                 Output Shape              Param #   \n",
      "=================================================================\n",
      "input_1 (InputLayer)         (None, 32, 32, 3)         0         \n",
      "_________________________________________________________________\n",
      "conv2d_1 (Conv2D)            (None, 32, 32, 64)        1792      \n",
      "_________________________________________________________________\n",
      "conv2d_2 (Conv2D)            (None, 32, 32, 64)        36928     \n",
      "_________________________________________________________________\n",
      "max_pooling2d_1 (MaxPooling2 (None, 16, 16, 64)        0         \n",
      "_________________________________________________________________\n",
      "conv2d_3 (Conv2D)            (None, 16, 16, 128)       73856     \n",
      "_________________________________________________________________\n",
      "conv2d_4 (Conv2D)            (None, 16, 16, 128)       147584    \n",
      "_________________________________________________________________\n",
      "max_pooling2d_2 (MaxPooling2 (None, 8, 8, 128)         0         \n",
      "_________________________________________________________________\n",
      "flatten_1 (Flatten)          (None, 8192)              0         \n",
      "_________________________________________________________________\n",
      "dense_1 (Dense)              (None, 1024)              8389632   \n",
      "_________________________________________________________________\n",
      "dense_2 (Dense)              (None, 1024)              1049600   \n",
      "_________________________________________________________________\n",
      "dense_3 (Dense)              (None, 100)               102500    \n",
      "=================================================================\n",
      "Total params: 9,801,892\n",
      "Trainable params: 9,801,892\n",
      "Non-trainable params: 0\n",
      "_________________________________________________________________\n"
     ]
    }
   ],
   "source": [
    "# This will be your trained model instead.\n",
    "\n",
    "from utils.models import LeNet, VGGMini, VGGMini2, VGGMini2_nodrop, preprocess_input\n",
    "model = VGGMini2_nodrop(\n",
    "    input_shape=input_shape,\n",
    "    nb_class=num_classes\n",
    ")\n",
    "# model.summary()"
   ]
  },
  {
   "cell_type": "code",
   "execution_count": 4,
   "metadata": {},
   "outputs": [],
   "source": [
    "x_train = preprocess_input(x_train, input_shape[0], input_shape[1], input_shape[2])\n",
    "x_test = preprocess_input(x_test, input_shape[0], input_shape[1], input_shape[2])"
   ]
  },
  {
   "cell_type": "code",
   "execution_count": 5,
   "metadata": {},
   "outputs": [
    {
     "name": "stdout",
     "output_type": "stream",
     "text": [
      "Train on 49875 samples, validate on 125 samples\n",
      "Epoch 1/128\n",
      "49875/49875 [==============================] - 147s 3ms/step - loss: 3.6719 - acc: 0.1562 - val_loss: 3.3728 - val_acc: 0.1920\n",
      "Epoch 2/128\n",
      "49875/49875 [==============================] - 148s 3ms/step - loss: 2.9164 - acc: 0.2892 - val_loss: 2.8462 - val_acc: 0.3120\n",
      "Epoch 3/128\n",
      "49875/49875 [==============================] - 150s 3ms/step - loss: 2.4832 - acc: 0.3765 - val_loss: 2.6063 - val_acc: 0.4080\n",
      "Epoch 4/128\n",
      "49875/49875 [==============================] - 149s 3ms/step - loss: 2.1270 - acc: 0.4537 - val_loss: 2.4624 - val_acc: 0.3840\n",
      "Epoch 5/128\n",
      "49875/49875 [==============================] - 150s 3ms/step - loss: 1.7883 - acc: 0.5311 - val_loss: 2.4383 - val_acc: 0.4000\n",
      "Epoch 6/128\n",
      "49875/49875 [==============================] - 150s 3ms/step - loss: 1.4546 - acc: 0.6102 - val_loss: 2.3048 - val_acc: 0.4240\n",
      "Epoch 7/128\n",
      "49875/49875 [==============================] - 149s 3ms/step - loss: 1.1074 - acc: 0.7007 - val_loss: 2.4504 - val_acc: 0.4400\n",
      "Epoch 8/128\n",
      "49875/49875 [==============================] - 150s 3ms/step - loss: 0.7755 - acc: 0.7886 - val_loss: 2.6309 - val_acc: 0.4240\n",
      "Epoch 9/128\n",
      "49875/49875 [==============================] - 149s 3ms/step - loss: 0.4795 - acc: 0.8714 - val_loss: 2.9522 - val_acc: 0.3920\n",
      "Epoch 10/128\n",
      "49875/49875 [==============================] - 149s 3ms/step - loss: 0.2818 - acc: 0.9281 - val_loss: 3.1171 - val_acc: 0.4080\n",
      "Epoch 11/128\n",
      "49875/49875 [==============================] - 149s 3ms/step - loss: 0.1600 - acc: 0.9621 - val_loss: 3.5084 - val_acc: 0.4160\n",
      "Epoch 12/128\n",
      "49875/49875 [==============================] - 149s 3ms/step - loss: 0.1098 - acc: 0.9753 - val_loss: 3.4278 - val_acc: 0.4240\n",
      "Epoch 13/128\n",
      "49875/49875 [==============================] - 149s 3ms/step - loss: 0.0941 - acc: 0.9779 - val_loss: 3.8861 - val_acc: 0.4000\n",
      "Epoch 14/128\n",
      "49875/49875 [==============================] - 149s 3ms/step - loss: 0.0865 - acc: 0.9783 - val_loss: 3.7905 - val_acc: 0.3840\n",
      "Epoch 15/128\n",
      "49875/49875 [==============================] - 149s 3ms/step - loss: 0.0865 - acc: 0.9779 - val_loss: 3.9983 - val_acc: 0.4480\n",
      "Epoch 16/128\n",
      "49875/49875 [==============================] - 149s 3ms/step - loss: 0.0874 - acc: 0.9769 - val_loss: 3.7870 - val_acc: 0.4320\n",
      "Epoch 17/128\n",
      "49875/49875 [==============================] - 149s 3ms/step - loss: 0.0813 - acc: 0.9784 - val_loss: 4.1834 - val_acc: 0.4000\n",
      "Epoch 18/128\n",
      "49875/49875 [==============================] - 149s 3ms/step - loss: 0.0666 - acc: 0.9830 - val_loss: 3.9864 - val_acc: 0.4000\n",
      "Epoch 19/128\n",
      "49875/49875 [==============================] - 149s 3ms/step - loss: 0.0542 - acc: 0.9863 - val_loss: 3.9925 - val_acc: 0.3920\n",
      "Epoch 20/128\n",
      "49875/49875 [==============================] - 149s 3ms/step - loss: 0.0527 - acc: 0.9872 - val_loss: 4.4003 - val_acc: 0.4240\n",
      "Epoch 21/128\n",
      "49875/49875 [==============================] - 149s 3ms/step - loss: 0.0657 - acc: 0.9825 - val_loss: 4.0504 - val_acc: 0.4080\n",
      "Epoch 22/128\n",
      "49875/49875 [==============================] - 149s 3ms/step - loss: 0.0516 - acc: 0.9866 - val_loss: 3.9565 - val_acc: 0.4560\n",
      "Epoch 23/128\n",
      "49875/49875 [==============================] - 149s 3ms/step - loss: 0.0422 - acc: 0.9891 - val_loss: 4.0563 - val_acc: 0.4240\n",
      "Epoch 24/128\n",
      "49875/49875 [==============================] - 149s 3ms/step - loss: 0.0510 - acc: 0.9857 - val_loss: 4.1324 - val_acc: 0.4400\n",
      "Epoch 25/128\n",
      "49875/49875 [==============================] - 149s 3ms/step - loss: 0.0432 - acc: 0.9890 - val_loss: 4.6029 - val_acc: 0.4480\n",
      "Epoch 26/128\n",
      "49875/49875 [==============================] - 149s 3ms/step - loss: 0.0377 - acc: 0.9905 - val_loss: 4.4656 - val_acc: 0.3760\n",
      "Epoch 27/128\n",
      "49875/49875 [==============================] - 149s 3ms/step - loss: 0.0472 - acc: 0.9870 - val_loss: 4.5937 - val_acc: 0.4080\n",
      "Epoch 28/128\n",
      "49875/49875 [==============================] - 149s 3ms/step - loss: 0.0464 - acc: 0.9874 - val_loss: 4.0839 - val_acc: 0.4000\n",
      "Epoch 29/128\n",
      "49875/49875 [==============================] - 149s 3ms/step - loss: 0.0369 - acc: 0.9904 - val_loss: 4.4152 - val_acc: 0.4480\n",
      "Epoch 30/128\n",
      "49875/49875 [==============================] - 149s 3ms/step - loss: 0.0334 - acc: 0.9912 - val_loss: 4.2319 - val_acc: 0.4240\n",
      "Epoch 31/128\n",
      "49875/49875 [==============================] - 149s 3ms/step - loss: 0.0421 - acc: 0.9886 - val_loss: 4.5464 - val_acc: 0.4000\n",
      "Epoch 32/128\n",
      "49875/49875 [==============================] - 149s 3ms/step - loss: 0.0286 - acc: 0.9932 - val_loss: 4.2216 - val_acc: 0.4320\n",
      "Epoch 33/128\n",
      "49875/49875 [==============================] - 149s 3ms/step - loss: 0.0365 - acc: 0.9903 - val_loss: 4.2720 - val_acc: 0.4080\n",
      "Epoch 34/128\n",
      "49875/49875 [==============================] - 149s 3ms/step - loss: 0.0373 - acc: 0.9901 - val_loss: 4.4611 - val_acc: 0.4480\n",
      "Epoch 35/128\n",
      "49875/49875 [==============================] - 149s 3ms/step - loss: 0.0344 - acc: 0.9912 - val_loss: 4.4753 - val_acc: 0.3920\n",
      "Epoch 36/128\n",
      "49875/49875 [==============================] - 149s 3ms/step - loss: 0.0346 - acc: 0.9909 - val_loss: 4.2446 - val_acc: 0.4640\n",
      "Epoch 37/128\n",
      "49875/49875 [==============================] - 149s 3ms/step - loss: 0.0268 - acc: 0.9935 - val_loss: 4.3328 - val_acc: 0.4000\n",
      "Epoch 38/128\n",
      "49875/49875 [==============================] - 149s 3ms/step - loss: 0.0206 - acc: 0.9956 - val_loss: 4.5258 - val_acc: 0.4400\n",
      "Epoch 39/128\n",
      "49875/49875 [==============================] - 149s 3ms/step - loss: 0.0412 - acc: 0.9883 - val_loss: 4.4729 - val_acc: 0.4320\n",
      "Epoch 40/128\n",
      "49875/49875 [==============================] - 149s 3ms/step - loss: 0.0302 - acc: 0.9918 - val_loss: 4.5880 - val_acc: 0.4560\n",
      "Epoch 41/128\n",
      "49875/49875 [==============================] - 149s 3ms/step - loss: 0.0201 - acc: 0.9950 - val_loss: 4.5143 - val_acc: 0.4480\n",
      "Epoch 42/128\n",
      "49875/49875 [==============================] - 149s 3ms/step - loss: 0.0347 - acc: 0.9906 - val_loss: 4.9129 - val_acc: 0.4160\n",
      "Epoch 43/128\n",
      "49875/49875 [==============================] - 149s 3ms/step - loss: 0.0265 - acc: 0.9929 - val_loss: 4.9411 - val_acc: 0.4400\n",
      "Epoch 44/128\n",
      "49875/49875 [==============================] - 149s 3ms/step - loss: 0.0223 - acc: 0.9942 - val_loss: 4.6984 - val_acc: 0.4160\n",
      "Epoch 45/128\n",
      "49875/49875 [==============================] - 149s 3ms/step - loss: 0.0320 - acc: 0.9909 - val_loss: 4.7437 - val_acc: 0.4160\n",
      "Epoch 46/128\n",
      "49875/49875 [==============================] - 149s 3ms/step - loss: 0.0178 - acc: 0.9957 - val_loss: 4.8721 - val_acc: 0.4480\n",
      "Epoch 47/128\n",
      "49875/49875 [==============================] - 149s 3ms/step - loss: 0.0282 - acc: 0.9921 - val_loss: 4.7902 - val_acc: 0.3840\n",
      "Epoch 48/128\n",
      "49875/49875 [==============================] - 149s 3ms/step - loss: 0.0289 - acc: 0.9916 - val_loss: 4.8075 - val_acc: 0.4240\n",
      "Epoch 49/128\n",
      "49875/49875 [==============================] - 149s 3ms/step - loss: 0.0205 - acc: 0.9950 - val_loss: 5.0363 - val_acc: 0.3600\n",
      "Epoch 50/128\n",
      "49875/49875 [==============================] - 149s 3ms/step - loss: 0.0192 - acc: 0.9950 - val_loss: 4.9077 - val_acc: 0.4000\n",
      "Epoch 51/128\n",
      "49875/49875 [==============================] - 149s 3ms/step - loss: 0.0192 - acc: 0.9948 - val_loss: 4.7980 - val_acc: 0.4480\n",
      "Epoch 52/128\n",
      "49875/49875 [==============================] - 149s 3ms/step - loss: 0.0266 - acc: 0.9924 - val_loss: 5.1022 - val_acc: 0.4160\n",
      "Epoch 53/128\n",
      "49875/49875 [==============================] - 149s 3ms/step - loss: 0.0210 - acc: 0.9943 - val_loss: 4.7701 - val_acc: 0.4080\n",
      "Epoch 54/128\n",
      "49875/49875 [==============================] - 149s 3ms/step - loss: 0.0235 - acc: 0.9934 - val_loss: 5.0790 - val_acc: 0.4400\n",
      "Epoch 55/128\n",
      "49875/49875 [==============================] - 149s 3ms/step - loss: 0.0168 - acc: 0.9954 - val_loss: 4.8730 - val_acc: 0.4000\n",
      "Epoch 56/128\n",
      "49875/49875 [==============================] - 149s 3ms/step - loss: 0.0158 - acc: 0.9962 - val_loss: 5.1325 - val_acc: 0.3840\n",
      "Epoch 57/128\n",
      "49875/49875 [==============================] - 149s 3ms/step - loss: 0.0170 - acc: 0.9953 - val_loss: 5.1687 - val_acc: 0.3840\n",
      "Epoch 58/128\n",
      "49875/49875 [==============================] - 149s 3ms/step - loss: 0.0269 - acc: 0.9921 - val_loss: 4.8708 - val_acc: 0.3920\n",
      "Epoch 59/128\n"
     ]
    },
    {
     "name": "stdout",
     "output_type": "stream",
     "text": [
      "49875/49875 [==============================] - 149s 3ms/step - loss: 0.0176 - acc: 0.9953 - val_loss: 5.1841 - val_acc: 0.4000\n",
      "Epoch 60/128\n",
      "49875/49875 [==============================] - 149s 3ms/step - loss: 0.0161 - acc: 0.9958 - val_loss: 5.1667 - val_acc: 0.3760\n",
      "Epoch 61/128\n",
      "49875/49875 [==============================] - 149s 3ms/step - loss: 0.0160 - acc: 0.9960 - val_loss: 5.0401 - val_acc: 0.4000\n",
      "Epoch 62/128\n",
      "49875/49875 [==============================] - 149s 3ms/step - loss: 0.0218 - acc: 0.9946 - val_loss: 5.2126 - val_acc: 0.3920\n",
      "Epoch 63/128\n",
      "49875/49875 [==============================] - 149s 3ms/step - loss: 0.0149 - acc: 0.9961 - val_loss: 5.6447 - val_acc: 0.3840\n",
      "Epoch 64/128\n",
      "49875/49875 [==============================] - 149s 3ms/step - loss: 0.0224 - acc: 0.9941 - val_loss: 5.0713 - val_acc: 0.4240\n",
      "Epoch 65/128\n",
      "49875/49875 [==============================] - 149s 3ms/step - loss: 0.0203 - acc: 0.9941 - val_loss: 5.0517 - val_acc: 0.4240\n",
      "Epoch 66/128\n",
      "49875/49875 [==============================] - 149s 3ms/step - loss: 0.0162 - acc: 0.9961 - val_loss: 4.9158 - val_acc: 0.4000\n",
      "Epoch 67/128\n",
      "49875/49875 [==============================] - 149s 3ms/step - loss: 0.0158 - acc: 0.9958 - val_loss: 4.6536 - val_acc: 0.4240\n",
      "Epoch 68/128\n",
      "49875/49875 [==============================] - 149s 3ms/step - loss: 0.0194 - acc: 0.9948 - val_loss: 5.2921 - val_acc: 0.3760\n",
      "Epoch 69/128\n",
      "49875/49875 [==============================] - 149s 3ms/step - loss: 0.0145 - acc: 0.9963 - val_loss: 5.2010 - val_acc: 0.3920\n",
      "Epoch 70/128\n",
      "49875/49875 [==============================] - 149s 3ms/step - loss: 0.0194 - acc: 0.9943 - val_loss: 4.7467 - val_acc: 0.4480\n",
      "Epoch 71/128\n",
      "49875/49875 [==============================] - 149s 3ms/step - loss: 0.0140 - acc: 0.9961 - val_loss: 5.2609 - val_acc: 0.4480\n",
      "Epoch 72/128\n",
      "49875/49875 [==============================] - 149s 3ms/step - loss: 0.0093 - acc: 0.9980 - val_loss: 4.9444 - val_acc: 0.4080\n",
      "Epoch 73/128\n",
      "49875/49875 [==============================] - 149s 3ms/step - loss: 0.0146 - acc: 0.9957 - val_loss: 5.0947 - val_acc: 0.4160\n",
      "Epoch 74/128\n",
      "49875/49875 [==============================] - 149s 3ms/step - loss: 0.0141 - acc: 0.9964 - val_loss: 5.0596 - val_acc: 0.4080\n",
      "Epoch 75/128\n",
      "49875/49875 [==============================] - 149s 3ms/step - loss: 0.0135 - acc: 0.9964 - val_loss: 4.9165 - val_acc: 0.4400\n",
      "Epoch 76/128\n",
      "49875/49875 [==============================] - 149s 3ms/step - loss: 0.0126 - acc: 0.9967 - val_loss: 5.4344 - val_acc: 0.3760\n",
      "Epoch 77/128\n",
      "49875/49875 [==============================] - 149s 3ms/step - loss: 0.0218 - acc: 0.9940 - val_loss: 5.7169 - val_acc: 0.4240\n",
      "Epoch 78/128\n",
      "49875/49875 [==============================] - 149s 3ms/step - loss: 0.0169 - acc: 0.9949 - val_loss: 5.2922 - val_acc: 0.4160\n",
      "Epoch 79/128\n",
      "49875/49875 [==============================] - 149s 3ms/step - loss: 0.0093 - acc: 0.9977 - val_loss: 5.2832 - val_acc: 0.4320\n",
      "Epoch 80/128\n",
      "49875/49875 [==============================] - 149s 3ms/step - loss: 0.0080 - acc: 0.9982 - val_loss: 5.5682 - val_acc: 0.4160\n",
      "Epoch 81/128\n",
      "49875/49875 [==============================] - 149s 3ms/step - loss: 0.0165 - acc: 0.9954 - val_loss: 5.2980 - val_acc: 0.4320\n",
      "Epoch 82/128\n",
      "49875/49875 [==============================] - 149s 3ms/step - loss: 0.0227 - acc: 0.9932 - val_loss: 5.0773 - val_acc: 0.4320\n",
      "Epoch 83/128\n",
      "49875/49875 [==============================] - 149s 3ms/step - loss: 0.0135 - acc: 0.9963 - val_loss: 5.1733 - val_acc: 0.4000\n",
      "Epoch 84/128\n",
      "49875/49875 [==============================] - 149s 3ms/step - loss: 0.0058 - acc: 0.9986 - val_loss: 5.2571 - val_acc: 0.4720\n",
      "Epoch 85/128\n",
      "49875/49875 [==============================] - 149s 3ms/step - loss: 0.0077 - acc: 0.9981 - val_loss: 5.4615 - val_acc: 0.4000\n",
      "Epoch 86/128\n",
      "49875/49875 [==============================] - 149s 3ms/step - loss: 0.0237 - acc: 0.9927 - val_loss: 4.9795 - val_acc: 0.4160\n",
      "Epoch 87/128\n",
      "49875/49875 [==============================] - 149s 3ms/step - loss: 0.0121 - acc: 0.9965 - val_loss: 5.5576 - val_acc: 0.4080\n",
      "Epoch 88/128\n",
      "49875/49875 [==============================] - 149s 3ms/step - loss: 0.0112 - acc: 0.9971 - val_loss: 4.7137 - val_acc: 0.4320\n",
      "Epoch 89/128\n",
      "49875/49875 [==============================] - 149s 3ms/step - loss: 0.0110 - acc: 0.9969 - val_loss: 4.9813 - val_acc: 0.4640\n",
      "Epoch 90/128\n",
      "49875/49875 [==============================] - 149s 3ms/step - loss: 0.0111 - acc: 0.9972 - val_loss: 5.0874 - val_acc: 0.4560\n",
      "Epoch 91/128\n",
      "49875/49875 [==============================] - 149s 3ms/step - loss: 0.0143 - acc: 0.9959 - val_loss: 4.8925 - val_acc: 0.4400\n",
      "Epoch 92/128\n",
      "49875/49875 [==============================] - 149s 3ms/step - loss: 0.0083 - acc: 0.9979 - val_loss: 5.0028 - val_acc: 0.4320\n",
      "Epoch 93/128\n",
      "49875/49875 [==============================] - 149s 3ms/step - loss: 0.0204 - acc: 0.9944 - val_loss: 5.0164 - val_acc: 0.4080\n",
      "Epoch 94/128\n",
      "49875/49875 [==============================] - 149s 3ms/step - loss: 0.0092 - acc: 0.9974 - val_loss: 4.6065 - val_acc: 0.4880\n",
      "Epoch 95/128\n",
      "49875/49875 [==============================] - 149s 3ms/step - loss: 0.0068 - acc: 0.9983 - val_loss: 4.6865 - val_acc: 0.4800\n",
      "Epoch 96/128\n",
      "49875/49875 [==============================] - 149s 3ms/step - loss: 0.0069 - acc: 0.9983 - val_loss: 4.7446 - val_acc: 0.4240\n",
      "Epoch 97/128\n",
      "49875/49875 [==============================] - 149s 3ms/step - loss: 0.0156 - acc: 0.9959 - val_loss: 4.8547 - val_acc: 0.4640\n",
      "Epoch 98/128\n",
      "49875/49875 [==============================] - 149s 3ms/step - loss: 0.0189 - acc: 0.9947 - val_loss: 4.8212 - val_acc: 0.4400\n",
      "Epoch 99/128\n",
      "49875/49875 [==============================] - 149s 3ms/step - loss: 0.0126 - acc: 0.9965 - val_loss: 4.8804 - val_acc: 0.4080\n",
      "Epoch 100/128\n",
      "49875/49875 [==============================] - 149s 3ms/step - loss: 0.0053 - acc: 0.9989 - val_loss: 4.8940 - val_acc: 0.4560\n",
      "Epoch 101/128\n",
      "49875/49875 [==============================] - 149s 3ms/step - loss: 0.0054 - acc: 0.9988 - val_loss: 4.6882 - val_acc: 0.5200\n",
      "Epoch 102/128\n",
      "49875/49875 [==============================] - 149s 3ms/step - loss: 0.0079 - acc: 0.9982 - val_loss: 4.9776 - val_acc: 0.4480\n",
      "Epoch 103/128\n",
      "49875/49875 [==============================] - 149s 3ms/step - loss: 0.0257 - acc: 0.9920 - val_loss: 5.0336 - val_acc: 0.4720\n",
      "Epoch 104/128\n",
      "49875/49875 [==============================] - 149s 3ms/step - loss: 0.0080 - acc: 0.9979 - val_loss: 5.6411 - val_acc: 0.3760\n",
      "Epoch 105/128\n",
      "49875/49875 [==============================] - 149s 3ms/step - loss: 0.0045 - acc: 0.9990 - val_loss: 5.1834 - val_acc: 0.4400\n",
      "Epoch 106/128\n",
      "49875/49875 [==============================] - 149s 3ms/step - loss: 0.0049 - acc: 0.9991 - val_loss: 5.0214 - val_acc: 0.4560\n",
      "Epoch 107/128\n",
      "49875/49875 [==============================] - 149s 3ms/step - loss: 0.0081 - acc: 0.9979 - val_loss: 4.9667 - val_acc: 0.4720\n",
      "Epoch 108/128\n",
      "49875/49875 [==============================] - 149s 3ms/step - loss: 0.0217 - acc: 0.9939 - val_loss: 5.0430 - val_acc: 0.4640\n",
      "Epoch 109/128\n",
      "49875/49875 [==============================] - 149s 3ms/step - loss: 0.0166 - acc: 0.9951 - val_loss: 5.8008 - val_acc: 0.4080\n",
      "Epoch 110/128\n",
      "49875/49875 [==============================] - 149s 3ms/step - loss: 0.0094 - acc: 0.9976 - val_loss: 5.6641 - val_acc: 0.4000\n",
      "Epoch 111/128\n",
      "49875/49875 [==============================] - 149s 3ms/step - loss: 0.0080 - acc: 0.9982 - val_loss: 5.3047 - val_acc: 0.4400\n",
      "Epoch 112/128\n",
      "49875/49875 [==============================] - 149s 3ms/step - loss: 0.0078 - acc: 0.9981 - val_loss: 5.3471 - val_acc: 0.4320\n",
      "Epoch 113/128\n",
      "49875/49875 [==============================] - 149s 3ms/step - loss: 0.0149 - acc: 0.9959 - val_loss: 5.1811 - val_acc: 0.4480\n",
      "Epoch 114/128\n",
      "49875/49875 [==============================] - 149s 3ms/step - loss: 0.0097 - acc: 0.9972 - val_loss: 5.1349 - val_acc: 0.4560\n",
      "Epoch 115/128\n",
      "49875/49875 [==============================] - 149s 3ms/step - loss: 0.0118 - acc: 0.9970 - val_loss: 5.2744 - val_acc: 0.4560\n",
      "Epoch 116/128\n",
      "49875/49875 [==============================] - 149s 3ms/step - loss: 0.0091 - acc: 0.9974 - val_loss: 5.0378 - val_acc: 0.4320\n",
      "Epoch 117/128\n"
     ]
    },
    {
     "name": "stdout",
     "output_type": "stream",
     "text": [
      "49875/49875 [==============================] - 149s 3ms/step - loss: 0.0092 - acc: 0.9976 - val_loss: 5.0666 - val_acc: 0.5040\n",
      "Epoch 118/128\n",
      "49875/49875 [==============================] - 149s 3ms/step - loss: 0.0138 - acc: 0.9962 - val_loss: 5.4601 - val_acc: 0.4640\n",
      "Epoch 119/128\n",
      "49875/49875 [==============================] - 149s 3ms/step - loss: 0.0058 - acc: 0.9985 - val_loss: 5.2238 - val_acc: 0.4800\n",
      "Epoch 120/128\n",
      "49875/49875 [==============================] - 149s 3ms/step - loss: 0.0037 - acc: 0.9992 - val_loss: 5.2638 - val_acc: 0.4720\n",
      "Epoch 121/128\n",
      "49875/49875 [==============================] - 149s 3ms/step - loss: 0.0073 - acc: 0.9980 - val_loss: 5.4305 - val_acc: 0.4480\n",
      "Epoch 122/128\n",
      "49875/49875 [==============================] - 149s 3ms/step - loss: 0.0148 - acc: 0.9958 - val_loss: 5.3700 - val_acc: 0.4000\n",
      "Epoch 123/128\n",
      "49875/49875 [==============================] - 149s 3ms/step - loss: 0.0125 - acc: 0.9959 - val_loss: 5.6200 - val_acc: 0.4320\n",
      "Epoch 124/128\n",
      "49875/49875 [==============================] - 149s 3ms/step - loss: 0.0052 - acc: 0.9986 - val_loss: 5.3046 - val_acc: 0.4080\n",
      "Epoch 125/128\n",
      "49875/49875 [==============================] - 149s 3ms/step - loss: 0.0027 - acc: 0.9995 - val_loss: 5.2223 - val_acc: 0.4320\n",
      "Epoch 126/128\n",
      "49875/49875 [==============================] - 149s 3ms/step - loss: 0.0020 - acc: 0.9996 - val_loss: 5.1855 - val_acc: 0.4320\n",
      "Epoch 127/128\n",
      "49875/49875 [==============================] - 150s 3ms/step - loss: 0.0024 - acc: 0.9995 - val_loss: 5.1519 - val_acc: 0.4080\n",
      "Epoch 128/128\n",
      "49875/49875 [==============================] - 149s 3ms/step - loss: 0.0021 - acc: 0.9996 - val_loss: 4.9387 - val_acc: 0.4400\n"
     ]
    }
   ],
   "source": [
    "#train\n",
    "from keras.optimizers import Adam\n",
    "from keras.callbacks import ModelCheckpoint, ReduceLROnPlateau, TensorBoard, CSVLogger, EarlyStopping\n",
    "\n",
    "nb_iterations = 50000\n",
    "learning_rate=0.0001\n",
    "batch_size=128\n",
    "nb_epochs = math.ceil(nb_iterations * (batch_size / x_train.shape[0]))\n",
    "dataset_prefix=\"cifar100_VGGmini2_nodrop\"\n",
    "\n",
    "save=True\n",
    "train=True\n",
    "\n",
    "validation_split=0.0025\n",
    "\n",
    "if not os.path.exists(os.path.join(\"logs\", \"%s\" % (dataset_prefix))):\n",
    "    os.mkdir(os.path.join(\"logs\", \"%s\" % (dataset_prefix)))\n",
    "tensorboard = TensorBoard(log_dir=os.path.join(\"logs\", \"%s\" % (dataset_prefix)), batch_size=batch_size)\n",
    "csv_logger = CSVLogger(os.path.join('logs', '%s.csv' % (dataset_prefix)))\n",
    "\n",
    "if not save:\n",
    "    callback_list = []\n",
    "else:\n",
    "    callback_list = [tensorboard, csv_logger]\n",
    "    #callback_list = [model_checkpoint, reduce_lr, tensorboard, csv_logger]\n",
    "\n",
    "\n",
    "optm = Adam(lr=learning_rate)\n",
    "model.compile(optimizer=optm, loss='categorical_crossentropy', metrics=['accuracy'])\n",
    "\n",
    "if train:\n",
    "    #train\n",
    "    model.fit(x_train, y_train, batch_size=batch_size, epochs=nb_epochs, callbacks=callback_list, verbose=1, validation_split=validation_split)\n",
    "    if save:\n",
    "        model.save_weights(os.path.join(\"weights\", \"%s_val_loss_weights_final.h5\" % (dataset_prefix)))\n",
    "else:\n",
    "    model.load_weights(os.path.join(\"weights\", \"%s_val_loss_weights_final.h5\" % (dataset_prefix)))"
   ]
  },
  {
   "cell_type": "code",
   "execution_count": null,
   "metadata": {},
   "outputs": [],
   "source": []
  },
  {
   "cell_type": "code",
   "execution_count": 6,
   "metadata": {
    "scrolled": true
   },
   "outputs": [
    {
     "name": "stdout",
     "output_type": "stream",
     "text": [
      "_________________________________________________________________\n",
      "Layer (type)                 Output Shape              Param #   \n",
      "=================================================================\n",
      "input_1 (InputLayer)         (None, 32, 32, 3)         0         \n",
      "_________________________________________________________________\n",
      "conv2d_1 (Conv2D)            (None, 32, 32, 64)        1792      \n",
      "_________________________________________________________________\n",
      "conv2d_2 (Conv2D)            (None, 32, 32, 64)        36928     \n",
      "_________________________________________________________________\n",
      "max_pooling2d_1 (MaxPooling2 (None, 16, 16, 64)        0         \n",
      "_________________________________________________________________\n",
      "conv2d_3 (Conv2D)            (None, 16, 16, 128)       73856     \n",
      "_________________________________________________________________\n",
      "conv2d_4 (Conv2D)            (None, 16, 16, 128)       147584    \n",
      "_________________________________________________________________\n",
      "max_pooling2d_2 (MaxPooling2 (None, 8, 8, 128)         0         \n",
      "_________________________________________________________________\n",
      "flatten_1 (Flatten)          (None, 8192)              0         \n",
      "_________________________________________________________________\n",
      "dense_1 (Dense)              (None, 1024)              8389632   \n",
      "_________________________________________________________________\n",
      "dense_2 (Dense)              (None, 1024)              1049600   \n",
      "_________________________________________________________________\n",
      "dense_4 (Dense)              (None, 100)               102500    \n",
      "=================================================================\n",
      "Total params: 9,801,892\n",
      "Trainable params: 9,801,892\n",
      "Non-trainable params: 0\n",
      "_________________________________________________________________\n"
     ]
    }
   ],
   "source": [
    "# Only the partial model is needed for the visualizers. Use innvestigate.utils.keras.graph.pre_softmax_tensors()\n",
    "partial_model = Model(\n",
    "    inputs=model.inputs,\n",
    "    outputs=iutils.keras.graph.pre_softmax_tensors(model.outputs),\n",
    "    name=model.name,\n",
    ")\n",
    "partial_model.summary()"
   ]
  },
  {
   "cell_type": "code",
   "execution_count": 7,
   "metadata": {},
   "outputs": [],
   "source": [
    "# Range of input images\n",
    "# keras_applications VGG16 weights assume a range of (-127.5, 127.5). Change this to a range suitable for your model.\n",
    "max_input = -1.\n",
    "min_input = 1."
   ]
  },
  {
   "cell_type": "code",
   "execution_count": 8,
   "metadata": {},
   "outputs": [
    {
     "name": "stdout",
     "output_type": "stream",
     "text": [
      "(200, 32, 32, 3)\n"
     ]
    }
   ],
   "source": [
    "# Change this to load a list of images you want. For this example, we are only loading one image, but you can load a list of files.\n",
    "orig_imgs = x_test\n",
    "input_imgs = np.copy(orig_imgs[:200])\n",
    "print(np.shape(input_imgs))\n"
   ]
  },
  {
   "cell_type": "code",
   "execution_count": 69,
   "metadata": {},
   "outputs": [],
   "source": [
    "# Select only one from your list for example\n",
    "example_id = 4"
   ]
  },
  {
   "cell_type": "code",
   "execution_count": 70,
   "metadata": {
    "scrolled": true
   },
   "outputs": [
    {
     "data": {
      "image/png": "[encoded data removed]",
      "text/plain": [
       "<Figure size 432x288 with 1 Axes>"
      ]
     },
     "metadata": {},
     "output_type": "display_data"
    }
   ],
   "source": [
    "plt.imshow((orig_imgs[example_id]+1.)/2.)\n",
    "plt.xticks([])\n",
    "plt.yticks([])\n",
    "plt.tight_layout()\n",
    "plt.show()"
   ]
  },
  {
   "cell_type": "code",
   "execution_count": 71,
   "metadata": {},
   "outputs": [],
   "source": [
    "\n",
    "\n",
    "# GradCAM and GuidedGradCAM requires a specific layer\n",
    "target_layer = \"max_pooling2d_2\" # VGG only"
   ]
  },
  {
   "cell_type": "code",
   "execution_count": 72,
   "metadata": {},
   "outputs": [],
   "source": [
    "# Optional\n",
    "predictions = model.predict(input_imgs)"
   ]
  },
  {
   "cell_type": "code",
   "execution_count": 68,
   "metadata": {},
   "outputs": [
    {
     "name": "stdout",
     "output_type": "stream",
     "text": [
      "4\n",
      "11\n",
      "12\n",
      "13\n",
      "14\n",
      "16\n",
      "18\n",
      "20\n",
      "22\n",
      "26\n",
      "27\n",
      "30\n",
      "32\n",
      "34\n",
      "37\n",
      "38\n",
      "39\n",
      "44\n",
      "45\n",
      "47\n",
      "51\n",
      "52\n",
      "53\n",
      "56\n",
      "57\n",
      "58\n",
      "61\n",
      "68\n",
      "75\n",
      "76\n",
      "77\n",
      "80\n",
      "82\n",
      "83\n",
      "85\n",
      "91\n",
      "92\n",
      "93\n",
      "94\n",
      "95\n",
      "104\n",
      "105\n",
      "106\n",
      "107\n",
      "109\n",
      "111\n",
      "112\n",
      "114\n",
      "117\n",
      "119\n",
      "120\n",
      "123\n",
      "124\n",
      "126\n",
      "128\n",
      "131\n",
      "135\n",
      "136\n",
      "138\n",
      "140\n",
      "141\n",
      "142\n",
      "145\n",
      "147\n",
      "154\n",
      "160\n",
      "163\n",
      "166\n",
      "168\n",
      "169\n",
      "170\n",
      "173\n",
      "174\n",
      "175\n",
      "177\n",
      "179\n",
      "182\n",
      "187\n",
      "188\n",
      "193\n",
      "194\n",
      "195\n",
      "197\n",
      "198\n",
      "199\n"
     ]
    }
   ],
   "source": [
    "# for i, p in enumerate(predictions):\n",
    "#     if np.max(p) < 1. :\n",
    "#         print(i, np.max(p))\n",
    "for i, p in enumerate(predictions):\n",
    "    if np.argmax(p) == np.argmax(y_test[i]):\n",
    "        print(i)"
   ]
  },
  {
   "cell_type": "code",
   "execution_count": 74,
   "metadata": {},
   "outputs": [
    {
     "name": "stdout",
     "output_type": "stream",
     "text": [
      "probability: 0.7680475\n",
      "prediction id: 71\n",
      "prediction: sea\n",
      "gt id: 71\n",
      "gt: sea\n",
      "target id: 71\n"
     ]
    }
   ],
   "source": [
    "# Which class you want to target.\n",
    "target_class = 71\n",
    "\n",
    "pred_id = np.argmax(predictions[example_id])\n",
    "gt_id = np.argmax(y_test[example_id])\n",
    "from utils.helper import get_cifar_label\n",
    "print(\"probability:\", predictions[example_id][target_class])\n",
    "print(\"prediction id:\", pred_id)\n",
    "print(\"prediction:\", get_cifar_label(pred_id))\n",
    "print(\"gt id:\", gt_id)\n",
    "print(\"gt:\", get_cifar_label(gt_id))\n",
    "print(\"target id:\", target_class)"
   ]
  },
  {
   "cell_type": "markdown",
   "metadata": {},
   "source": [
    "# GradCAM"
   ]
  },
  {
   "cell_type": "code",
   "execution_count": 75,
   "metadata": {
    "scrolled": true
   },
   "outputs": [
    {
     "data": {
      "image/png": "[encoded data removed]",
      "text/plain": [
       "<Figure size 432x288 with 1 Axes>"
      ]
     },
     "metadata": {},
     "output_type": "display_data"
    }
   ],
   "source": [
    "partial_gradcam_analyzer = GradCAM(\n",
    "    model=partial_model,\n",
    "    target_id=target_class,\n",
    "    layer_name=target_layer,\n",
    "    relu=True,\n",
    ")\n",
    "analysis_partial_grad_cam = partial_gradcam_analyzer.analyze(input_imgs)\n",
    "heatmap(analysis_partial_grad_cam[example_id].sum(axis=(2)))\n",
    "plt.show()"
   ]
  },
  {
   "cell_type": "markdown",
   "metadata": {},
   "source": [
    "# Guided Back Propagation"
   ]
  },
  {
   "cell_type": "code",
   "execution_count": 76,
   "metadata": {},
   "outputs": [
    {
     "data": {
      "image/png": "[encoded data removed]",
      "text/plain": [
       "<Figure size 432x288 with 1 Axes>"
      ]
     },
     "metadata": {},
     "output_type": "display_data"
    }
   ],
   "source": [
    "guidedbackprop_analyzer = GBP(\n",
    "    partial_model,\n",
    "    target_id=target_class,\n",
    "    relu=True,\n",
    ")\n",
    "analysis_guidedbackprop = guidedbackprop_analyzer.analyze(input_imgs)\n",
    "heatmap(analysis_guidedbackprop[example_id].sum(axis=(2)))\n",
    "plt.show()"
   ]
  },
  {
   "cell_type": "markdown",
   "metadata": {},
   "source": [
    "# GuidedGradCAM"
   ]
  },
  {
   "cell_type": "code",
   "execution_count": 77,
   "metadata": {},
   "outputs": [
    {
     "data": {
      "image/png": "[encoded data removed]",
      "text/plain": [
       "<Figure size 432x288 with 1 Axes>"
      ]
     },
     "metadata": {},
     "output_type": "display_data"
    }
   ],
   "source": [
    "guidedgradcam_analyzer = GuidedGradCAM(\n",
    "    partial_model,\n",
    "    target_id=target_class,\n",
    "    layer_name=target_layer,\n",
    "    relu=True,\n",
    ")\n",
    "analysis_guidedgradcam = guidedgradcam_analyzer.analyze(input_imgs)\n",
    "heatmap(analysis_guidedgradcam[example_id].sum(axis=(2)))\n",
    "plt.show()"
   ]
  },
  {
   "cell_type": "markdown",
   "metadata": {},
   "source": [
    "# LRP"
   ]
  },
  {
   "cell_type": "code",
   "execution_count": 78,
   "metadata": {},
   "outputs": [
    {
     "data": {
      "image/png": "[encoded data removed]",
      "text/plain": [
       "<Figure size 432x288 with 1 Axes>"
      ]
     },
     "metadata": {},
     "output_type": "display_data"
    }
   ],
   "source": [
    "lrp_analyzer = LRP(\n",
    "    partial_model,\n",
    "    target_id=target_class,\n",
    "    relu=True,\n",
    "    low=min_input,\n",
    "    high=max_input,\n",
    ")\n",
    "analysis_lrp = lrp_analyzer.analyze(input_imgs)\n",
    "heatmap(analysis_lrp[example_id].sum(axis=(2)))\n",
    "plt.show()"
   ]
  },
  {
   "cell_type": "markdown",
   "metadata": {},
   "source": [
    "# CLRP"
   ]
  },
  {
   "cell_type": "code",
   "execution_count": 79,
   "metadata": {},
   "outputs": [
    {
     "data": {
      "image/png": "[encoded data removed]",
      "text/plain": [
       "<Figure size 432x288 with 1 Axes>"
      ]
     },
     "metadata": {},
     "output_type": "display_data"
    }
   ],
   "source": [
    "clrp_analyzer = CLRP(\n",
    "    partial_model,\n",
    "    target_id=target_class,\n",
    "    relu=True,\n",
    "    low=min_input,\n",
    "    high=max_input,\n",
    ")\n",
    "analysis_clrp = clrp_analyzer.analyze(input_imgs)\n",
    "heatmap(analysis_clrp[example_id].sum(axis=(2)))\n",
    "plt.show()"
   ]
  },
  {
   "cell_type": "markdown",
   "metadata": {},
   "source": [
    "# SGLRP"
   ]
  },
  {
   "cell_type": "code",
   "execution_count": 80,
   "metadata": {
    "scrolled": true
   },
   "outputs": [
    {
     "data": {
      "image/png": "[encoded data removed]",
      "text/plain": [
       "<Figure size 432x288 with 1 Axes>"
      ]
     },
     "metadata": {},
     "output_type": "display_data"
    }
   ],
   "source": [
    "sglrp_analyzer = SGLRP(\n",
    "    partial_model,\n",
    "    target_id=target_class,\n",
    "    relu=True,\n",
    "    low=min_input,\n",
    "    high=max_input,\n",
    ")\n",
    "analysis_sglrp = sglrp_analyzer.analyze(input_imgs)\n",
    "heatmap(analysis_sglrp[example_id].sum(axis=(2)))\n",
    "plt.show()"
   ]
  },
  {
   "cell_type": "code",
   "execution_count": 21,
   "metadata": {},
   "outputs": [],
   "source": [
    "# oaglrp_analyzer = OAGLRP(\n",
    "#     partial_model,\n",
    "#     target_id=target_class,\n",
    "#     relu=False,\n",
    "#     scaling=False,\n",
    "#     low=min_input,\n",
    "#     high=max_input,\n",
    "# )\n",
    "# analysis_oaglrp = oaglrp_analyzer.analyze(input_imgs)\n",
    "# heatmap(analysis_oaglrp[example_id].sum(axis=(2)))\n",
    "# plt.show()"
   ]
  },
  {
   "cell_type": "code",
   "execution_count": null,
   "metadata": {},
   "outputs": [],
   "source": []
  }
 ],
 "metadata": {
  "kernelspec": {
   "display_name": "Python 3",
   "language": "python",
   "name": "python3"
  },
  "language_info": {
   "codemirror_mode": {
    "name": "ipython",
    "version": 3
   },
   "file_extension": ".py",
   "mimetype": "text/x-python",
   "name": "python",
   "nbconvert_exporter": "python",
   "pygments_lexer": "ipython3",
   "version": "3.5.2"
  }
 },
 "nbformat": 4,
 "nbformat_minor": 2
}
